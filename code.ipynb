{
  "cells": [
    {
      "cell_type": "code",
      "execution_count": null,
      "metadata": {
        "id": "MsAoFSlK7Vt2"
      },
      "outputs": [],
      "source": [
        "# My imports\n",
        "import numpy as np\n",
        "import pandas as pd\n",
        "from matplotlib import pyplot as plt"
      ]
    },
    {
      "cell_type": "code",
      "execution_count": null,
      "metadata": {
        "colab": {
          "base_uri": "https://localhost:8080/"
        },
        "id": "QnEW_hu7LhOQ",
        "outputId": "9c0d1f0d-6288-4558-a4df-1d43bb0266fe"
      },
      "outputs": [
        {
          "output_type": "stream",
          "name": "stdout",
          "text": [
            "Mounted at /content/drive\n"
          ]
        }
      ],
      "source": [
        "import os\n",
        "import skimage.io as io\n",
        "\n",
        "from google.colab import drive\n",
        "drive.mount('/content/drive')\n",
        "\n",
        "# Loading the images and their names, and converting them to grey scale\n",
        "path = 'drive/MyDrive/samples/'\n",
        "img_names = os.listdir(path)\n",
        "titles = [title[:5] for title in img_names]\n",
        "imgs = [io.imread(path + img + '.png', as_gray = True) for img in titles]\n",
        "\n",
        "classes = [chr(i) for i in range(ord('a'), ord('z') + 1)]"
      ]
    },
    {
      "cell_type": "code",
      "execution_count": null,
      "metadata": {
        "id": "sdwR6K9YLEii"
      },
      "outputs": [],
      "source": [
        "from skimage.filters import threshold_otsu\n",
        "from skimage.morphology import erosion, dilation\n",
        "%matplotlib inline\n",
        "\n",
        "# This function preprocesses the image\n",
        "# Performing erosion, then dilation, and again dilation with different kernels in each step\n",
        "def pre_process(img):\n",
        "  threshold = threshold_otsu(img)\n",
        "  img_binary = img > threshold\n",
        "\n",
        "  kernel = np.ones((2,2), np.uint8)\n",
        "  img_dilated = erosion(img_binary)\n",
        "\n",
        "  kernel = np.ones((3,1), np.uint8)\n",
        "  img_eroded = dilation(img_dilated, kernel)\n",
        "\n",
        "  kernel = np.ones((4,2), np.uint8)\n",
        "  img_dilated_2 = dilation(img_eroded, kernel)\n",
        "  kernel = np.ones((2,1), np.uint8)\n",
        "  img_f = dilation(img_dilated_2, kernel)\n",
        "  img_f = dilation(img_f, kernel)\n",
        "\n",
        "  return img_f"
      ]
    },
    {
      "cell_type": "code",
      "execution_count": null,
      "metadata": {
        "id": "3mzZR5nkCPoU"
      },
      "outputs": [],
      "source": [
        "# This functions splits each image and title into 5 character images and 5 characters respectively\n",
        "def slice_and_append(img, txt):\n",
        "  sliced = []\n",
        "  for i in range(5):\n",
        "    sliced.append({'img' : img[:, 20 * i : 20 * (i + 1)], 'char' : txt[i]})\n",
        "  return sliced"
      ]
    },
    {
      "cell_type": "code",
      "execution_count": null,
      "metadata": {
        "id": "HlHb6JSENX2Q"
      },
      "outputs": [],
      "source": [
        "from sklearn.model_selection import train_test_split\n",
        "\n",
        "l = len(imgs)\n",
        "\n",
        "# Prepocessing the images\n",
        "imgs_processed = [pre_process(img) for img in imgs]\n",
        "\n",
        "# Splitting each image\n",
        "data_set = []\n",
        "for i in range(l):\n",
        "  data_set.extend(slice_and_append(imgs_processed[i], titles[i]))\n",
        "\n",
        "features, targets = np.array([data['img'] for data in data_set]), np.array([data['char'] for data in data_set])\n",
        "features = features.reshape(len(features), -1)\n",
        "\n",
        "X_train, X_validation, Y_train, Y_validation = train_test_split(features, targets, test_size=0.2, random_state=0)"
      ]
    },
    {
      "cell_type": "code",
      "execution_count": null,
      "metadata": {
        "id": "9WXQtbsDLwal"
      },
      "outputs": [],
      "source": [
        "# This is for dividing the dataset into train and validation sets\n",
        "# 80% of all images of each character will be in the train set and the rest in the validation set\n",
        "# cnt => count of each character\n",
        "cnt = np.zeros(26, dtype=int)\n",
        "for i in data_set:\n",
        "  ind = ord(i['char']) - ord('a')\n",
        "  cnt[ind] = cnt[ind] + 1\n",
        "\n",
        "each = cnt.copy()\n",
        "\n",
        "# cnt => count of each character to be in the validation set\n",
        "# Since cnt[i] will not always be a multiple of 5, the sum of all cnt[*] after dividing by 5 will not be 1000\n",
        "# In this case, the sum is 990\n",
        "# To get 1000, randomly cnt[i] is incremented by 1 for 10 times\n",
        "sum = 0\n",
        "for i in range(26):\n",
        "  cnt[i] = int(cnt[i] / 5)\n",
        "  sum = sum + cnt[i]\n",
        "for i in range(l - sum):\n",
        "  cnt[i % 26] = cnt[i % 26] + 1\n",
        "\n",
        "train_set = []\n",
        "validation_set = []\n",
        "\n",
        "for data in data_set:\n",
        "  n = ord(data['char']) - ord('a')\n",
        "  if (cnt[n]):\n",
        "    validation_set.append(data)\n",
        "    cnt[n] = cnt[n] - 1\n",
        "  else:\n",
        "    train_set.append(data)\n",
        "\n",
        "# Separating the features and targets\n",
        "X_train1, Y_train1 = np.array([data['img'] for data in train_set]), np.array([data['char'] for data in train_set])\n",
        "X_validation1, Y_validation1 = np.array([data['img'] for data in validation_set]), np.array([data['char'] for data in validation_set])\n",
        "\n",
        "# Reshaping the input arrays to (n_samples, n_features) or flattening the image\n",
        "# n_features = number of pixels\n",
        "X_train1, X_validation1 = X_train1.reshape((len(X_train1), -1)), X_validation1.reshape((len(X_validation1), -1))"
      ]
    },
    {
      "cell_type": "code",
      "execution_count": null,
      "metadata": {
        "colab": {
          "base_uri": "https://localhost:8080/"
        },
        "id": "_IrBFAufL9W0",
        "outputId": "7ae21754-c57a-44f4-a609-07c1997d6f87"
      },
      "outputs": [
        {
          "output_type": "stream",
          "name": "stderr",
          "text": [
            "/usr/local/lib/python3.10/dist-packages/sklearn/linear_model/_logistic.py:458: ConvergenceWarning: lbfgs failed to converge (status=1):\n",
            "STOP: TOTAL NO. of ITERATIONS REACHED LIMIT.\n",
            "\n",
            "Increase the number of iterations (max_iter) or scale the data as shown in:\n",
            "    https://scikit-learn.org/stable/modules/preprocessing.html\n",
            "Please also refer to the documentation for alternative solver options:\n",
            "    https://scikit-learn.org/stable/modules/linear_model.html#logistic-regression\n",
            "  n_iter_i = _check_optimize_result(\n"
          ]
        }
      ],
      "source": [
        "# Logistic Regression\n",
        "from sklearn.linear_model import LogisticRegression\n",
        "\n",
        "# LogReg_model = LogisticRegression(multi_class='multinomial', solver='sag', penalty='l2', max_iter=20000)\n",
        "LogReg_model = LogisticRegression()\n",
        "LogReg_model.fit(X_train, Y_train)\n",
        "\n",
        "Log_prediction = LogReg_model.predict(X_validation)"
      ]
    },
    {
      "cell_type": "code",
      "execution_count": null,
      "metadata": {
        "id": "t1j6K7R6hO0J"
      },
      "outputs": [],
      "source": [
        "# SVMs\n",
        "from sklearn.svm import SVC\n",
        "\n",
        "# SVM_model = SVC(C=10, gamma=0.01, kernel='rbf')\n",
        "SVM_model = SVC()\n",
        "SVM_model.fit(X_train, Y_train)\n",
        "\n",
        "SVM_prediction = SVM_model.predict(X_validation)"
      ]
    },
    {
      "cell_type": "code",
      "execution_count": null,
      "metadata": {
        "id": "IF1s_vxGhAXu"
      },
      "outputs": [],
      "source": [
        "# Random Forest\n",
        "from sklearn.ensemble import RandomForestClassifier\n",
        "\n",
        "# RanFor_model = RandomForestClassifier(n_estimators=1000)\n",
        "RanFor_model = RandomForestClassifier()\n",
        "RanFor_model.fit(X_train, Y_train)\n",
        "\n",
        "RanFor_prediction = RanFor_model.predict(X_validation)"
      ]
    },
    {
      "cell_type": "code",
      "execution_count": null,
      "metadata": {
        "id": "kBxDq_COv9Zt"
      },
      "outputs": [],
      "source": [
        "# ---\n",
        "# -----------\n",
        "# ----------------- Q1\n",
        "# -----------\n",
        "# ---"
      ]
    },
    {
      "cell_type": "code",
      "execution_count": null,
      "metadata": {
        "id": "WozKr5fW-54x"
      },
      "outputs": [],
      "source": [
        "from sklearn.metrics import accuracy_score, precision_score, recall_score, f1_score\n",
        "\n",
        "LogAccScore = accuracy_score(Y_validation, Log_prediction)\n",
        "\n",
        "SVMAccScore = accuracy_score(Y_validation, SVM_prediction)\n",
        "\n",
        "RanForAccScore = accuracy_score(Y_validation, RanFor_prediction)"
      ]
    },
    {
      "cell_type": "code",
      "execution_count": null,
      "metadata": {
        "colab": {
          "base_uri": "https://localhost:8080/",
          "height": 143
        },
        "id": "XbsnqSTnPlMC",
        "outputId": "9da3cee7-69a7-4d07-dc50-5c9089d82614"
      },
      "outputs": [
        {
          "output_type": "execute_result",
          "data": {
            "text/plain": [
              "                     Accuracy\n",
              "Logistic Regression     0.578\n",
              "SVMs                    0.736\n",
              "Random Forest           0.746"
            ],
            "text/html": [
              "\n",
              "  <div id=\"df-50c2851a-effd-4ac5-886f-346ef2bd849b\">\n",
              "    <div class=\"colab-df-container\">\n",
              "      <div>\n",
              "<style scoped>\n",
              "    .dataframe tbody tr th:only-of-type {\n",
              "        vertical-align: middle;\n",
              "    }\n",
              "\n",
              "    .dataframe tbody tr th {\n",
              "        vertical-align: top;\n",
              "    }\n",
              "\n",
              "    .dataframe thead th {\n",
              "        text-align: right;\n",
              "    }\n",
              "</style>\n",
              "<table border=\"1\" class=\"dataframe\">\n",
              "  <thead>\n",
              "    <tr style=\"text-align: right;\">\n",
              "      <th></th>\n",
              "      <th>Accuracy</th>\n",
              "    </tr>\n",
              "  </thead>\n",
              "  <tbody>\n",
              "    <tr>\n",
              "      <th>Logistic Regression</th>\n",
              "      <td>0.578</td>\n",
              "    </tr>\n",
              "    <tr>\n",
              "      <th>SVMs</th>\n",
              "      <td>0.736</td>\n",
              "    </tr>\n",
              "    <tr>\n",
              "      <th>Random Forest</th>\n",
              "      <td>0.746</td>\n",
              "    </tr>\n",
              "  </tbody>\n",
              "</table>\n",
              "</div>\n",
              "      <button class=\"colab-df-convert\" onclick=\"convertToInteractive('df-50c2851a-effd-4ac5-886f-346ef2bd849b')\"\n",
              "              title=\"Convert this dataframe to an interactive table.\"\n",
              "              style=\"display:none;\">\n",
              "        \n",
              "  <svg xmlns=\"http://www.w3.org/2000/svg\" height=\"24px\"viewBox=\"0 0 24 24\"\n",
              "       width=\"24px\">\n",
              "    <path d=\"M0 0h24v24H0V0z\" fill=\"none\"/>\n",
              "    <path d=\"M18.56 5.44l.94 2.06.94-2.06 2.06-.94-2.06-.94-.94-2.06-.94 2.06-2.06.94zm-11 1L8.5 8.5l.94-2.06 2.06-.94-2.06-.94L8.5 2.5l-.94 2.06-2.06.94zm10 10l.94 2.06.94-2.06 2.06-.94-2.06-.94-.94-2.06-.94 2.06-2.06.94z\"/><path d=\"M17.41 7.96l-1.37-1.37c-.4-.4-.92-.59-1.43-.59-.52 0-1.04.2-1.43.59L10.3 9.45l-7.72 7.72c-.78.78-.78 2.05 0 2.83L4 21.41c.39.39.9.59 1.41.59.51 0 1.02-.2 1.41-.59l7.78-7.78 2.81-2.81c.8-.78.8-2.07 0-2.86zM5.41 20L4 18.59l7.72-7.72 1.47 1.35L5.41 20z\"/>\n",
              "  </svg>\n",
              "      </button>\n",
              "      \n",
              "  <style>\n",
              "    .colab-df-container {\n",
              "      display:flex;\n",
              "      flex-wrap:wrap;\n",
              "      gap: 12px;\n",
              "    }\n",
              "\n",
              "    .colab-df-convert {\n",
              "      background-color: #E8F0FE;\n",
              "      border: none;\n",
              "      border-radius: 50%;\n",
              "      cursor: pointer;\n",
              "      display: none;\n",
              "      fill: #1967D2;\n",
              "      height: 32px;\n",
              "      padding: 0 0 0 0;\n",
              "      width: 32px;\n",
              "    }\n",
              "\n",
              "    .colab-df-convert:hover {\n",
              "      background-color: #E2EBFA;\n",
              "      box-shadow: 0px 1px 2px rgba(60, 64, 67, 0.3), 0px 1px 3px 1px rgba(60, 64, 67, 0.15);\n",
              "      fill: #174EA6;\n",
              "    }\n",
              "\n",
              "    [theme=dark] .colab-df-convert {\n",
              "      background-color: #3B4455;\n",
              "      fill: #D2E3FC;\n",
              "    }\n",
              "\n",
              "    [theme=dark] .colab-df-convert:hover {\n",
              "      background-color: #434B5C;\n",
              "      box-shadow: 0px 1px 3px 1px rgba(0, 0, 0, 0.15);\n",
              "      filter: drop-shadow(0px 1px 2px rgba(0, 0, 0, 0.3));\n",
              "      fill: #FFFFFF;\n",
              "    }\n",
              "  </style>\n",
              "\n",
              "      <script>\n",
              "        const buttonEl =\n",
              "          document.querySelector('#df-50c2851a-effd-4ac5-886f-346ef2bd849b button.colab-df-convert');\n",
              "        buttonEl.style.display =\n",
              "          google.colab.kernel.accessAllowed ? 'block' : 'none';\n",
              "\n",
              "        async function convertToInteractive(key) {\n",
              "          const element = document.querySelector('#df-50c2851a-effd-4ac5-886f-346ef2bd849b');\n",
              "          const dataTable =\n",
              "            await google.colab.kernel.invokeFunction('convertToInteractive',\n",
              "                                                     [key], {});\n",
              "          if (!dataTable) return;\n",
              "\n",
              "          const docLinkHtml = 'Like what you see? Visit the ' +\n",
              "            '<a target=\"_blank\" href=https://colab.research.google.com/notebooks/data_table.ipynb>data table notebook</a>'\n",
              "            + ' to learn more about interactive tables.';\n",
              "          element.innerHTML = '';\n",
              "          dataTable['output_type'] = 'display_data';\n",
              "          await google.colab.output.renderOutput(dataTable, element);\n",
              "          const docLink = document.createElement('div');\n",
              "          docLink.innerHTML = docLinkHtml;\n",
              "          element.appendChild(docLink);\n",
              "        }\n",
              "      </script>\n",
              "    </div>\n",
              "  </div>\n",
              "  "
            ]
          },
          "metadata": {},
          "execution_count": 23
        }
      ],
      "source": [
        "table = pd.DataFrame({\"Accuracy\": [LogAccScore, SVMAccScore, RanForAccScore]}, index=['Logistic Regression', 'SVMs', 'Random Forest'])\n",
        "\n",
        "table"
      ]
    },
    {
      "cell_type": "code",
      "execution_count": null,
      "metadata": {
        "id": "GQLK-T_1qQvB"
      },
      "outputs": [],
      "source": [
        "# The “Random Forest Classifier” yields the best accuracy on the validation set.\n",
        "# Accuracy is “not” a very good metric for evaluating classifiers because it can be\n",
        "# easily manipulated by changing the decision boundary/threshold and is highly sensitive to class imbalance.\n",
        "# Accuracy is the fraction of instances that are correctly classified. Suppose we have a dataset of 1000 instances,\n",
        "# of which 990 are of class A and 10 are of class B. We train a classifier on this dataset and it achieves an accuracy of 99%.\n",
        "# This means that the classifier correctly classifies 990 out of 1000 instances, which is a very good accuracy.\n",
        "# However, that 99% of the data belongs to only one class. This means that the classifier correctly classifies only the majority class\n",
        "# and has poor performance on the other class. The accuracy is very misleading in this situation.\n",
        "# Precision measures the proportion of predicted positive instances that are actually positive. This means that it\n",
        "# is not affected by the number of positive instances in the dataset. For example, if a model has a precision of 90%, this means that 90% of the instances\n",
        "# that it predicts as positive are actually positive, regardless of whether there are 10 positive instances or 1000 positive instances in the dataset.\n",
        "# Similarly, recall measures the proportion of actual positive instances that are predicted positive. Hence, precision and recall are not affected by class imbalance.\n",
        "# If the decision boundary/threshold increases, precision increases and tends to 1 and if the boundary/threshold decreases, recall increases and tends to 1.\n",
        "#  So, they are sensitive to changes in decision boundaries.\n",
        "# “F1 score” is a value that compromises between Recall and Precision by taking the harmonic mean between them. This is a better metric for evaluation of classifiers."
      ]
    },
    {
      "cell_type": "code",
      "execution_count": null,
      "metadata": {
        "id": "azqNdKxuv6uv"
      },
      "outputs": [],
      "source": [
        "# ---\n",
        "# -----------\n",
        "# ----------------- Q2\n",
        "# -----------\n",
        "# ---"
      ]
    },
    {
      "cell_type": "code",
      "execution_count": null,
      "metadata": {
        "colab": {
          "base_uri": "https://localhost:8080/"
        },
        "id": "lc8IUn1nW2C6",
        "outputId": "6bd6c0c4-ebac-4855-80d7-61eee794dcd4"
      },
      "outputs": [
        {
          "output_type": "stream",
          "name": "stdout",
          "text": [
            "{'criterion': 'gini', 'min_samples_split': 2, 'n_estimators': 1000}\n",
            "Classification report for classifier GridSearchCV(estimator=RandomForestClassifier(),\n",
            "             param_grid={'criterion': ['gini'], 'min_samples_split': [2],\n",
            "                         'n_estimators': [1000]}):\n",
            "              precision    recall  f1-score   support\n",
            "\n",
            "           a       0.95      0.90      0.92        41\n",
            "           b       0.69      0.69      0.69        39\n",
            "           c       0.80      0.90      0.85        40\n",
            "           d       0.94      0.79      0.86        38\n",
            "           e       0.97      0.85      0.90        39\n",
            "           f       0.56      0.47      0.51        40\n",
            "           g       0.97      0.83      0.90        36\n",
            "           h       0.70      0.60      0.65        35\n",
            "           i       0.68      0.72      0.70        36\n",
            "           j       0.59      0.95      0.73        41\n",
            "           k       0.86      0.89      0.88        36\n",
            "           l       0.41      0.76      0.53        41\n",
            "           m       0.84      0.76      0.80        42\n",
            "           n       0.83      0.74      0.78        39\n",
            "           o       0.71      0.71      0.71        38\n",
            "           p       0.97      0.78      0.87        37\n",
            "           q       0.89      0.86      0.88        37\n",
            "           r       0.85      0.85      0.85        34\n",
            "           s       0.80      0.86      0.83        42\n",
            "           t       0.68      0.58      0.63        36\n",
            "           u       0.82      0.74      0.78        38\n",
            "           v       0.81      0.63      0.71        35\n",
            "           w       0.79      0.70      0.74        37\n",
            "           x       0.85      0.71      0.77        41\n",
            "           y       0.87      0.85      0.86        40\n",
            "           z       0.76      0.81      0.78        42\n",
            "\n",
            "    accuracy                           0.77      1000\n",
            "   macro avg       0.79      0.77      0.77      1000\n",
            "weighted avg       0.79      0.77      0.77      1000\n",
            "\n"
          ]
        }
      ],
      "source": [
        "from sklearn.metrics import classification_report\n",
        "from sklearn.model_selection import GridSearchCV\n",
        "\n",
        "param_grid = {'n_estimators': [200, 500, 1000],\n",
        "              'min_samples_split': [2, 3, 4],\n",
        "              'criterion': ['gini', 'entropy']}\n",
        "\n",
        "grid = GridSearchCV(RandomForestClassifier(), param_grid, refit=True)\n",
        "grid.fit(X_train1, Y_train1)\n",
        "print(grid.best_params_)\n",
        "Y_pred = grid.predict(X_validation1)\n",
        "print(f\"Classification report for classifier {grid}:\")\n",
        "print(classification_report(Y_validation1, Y_pred))"
      ]
    },
    {
      "cell_type": "code",
      "execution_count": null,
      "metadata": {
        "id": "cIh4-9o3n_X5"
      },
      "outputs": [],
      "source": [
        "# After changing the hyperparameters\n",
        "LogReg_model = LogisticRegression()\n",
        "LogReg_model.fit(X_train1, Y_train1)\n",
        "\n",
        "Log_prediction = LogReg_model.predict(X_validation1)\n",
        "\n",
        "SVM_model = SVC()\n",
        "SVM_model.fit(X_train1, Y_train1)\n",
        "\n",
        "SVM_prediction = SVM_model.predict(X_validation1)\n",
        "\n",
        "RanFor_model = RandomForestClassifier(n_estimators=1000)\n",
        "RanFor_model.fit(X_train1, Y_train1)\n",
        "\n",
        "RanFor_prediction = RanFor_model.predict(X_validation1)"
      ]
    },
    {
      "cell_type": "code",
      "execution_count": null,
      "metadata": {
        "id": "AlDc5LJeozpp"
      },
      "outputs": [],
      "source": [
        "LogAccScore = accuracy_score(Y_validation1, Log_prediction)\n",
        "\n",
        "SVMAccScore = accuracy_score(Y_validation1, SVM_prediction)\n",
        "\n",
        "RanForAccScore = accuracy_score(Y_validation1, RanFor_prediction)"
      ]
    },
    {
      "cell_type": "code",
      "execution_count": null,
      "metadata": {
        "colab": {
          "base_uri": "https://localhost:8080/",
          "height": 143
        },
        "id": "85NTdgmNo3LO",
        "outputId": "09067ece-e233-41d4-f996-4124badb299d"
      },
      "outputs": [
        {
          "data": {
            "text/html": [
              "\n",
              "  <div id=\"df-6036dbef-770e-407a-a038-99e892063da8\">\n",
              "    <div class=\"colab-df-container\">\n",
              "      <div>\n",
              "<style scoped>\n",
              "    .dataframe tbody tr th:only-of-type {\n",
              "        vertical-align: middle;\n",
              "    }\n",
              "\n",
              "    .dataframe tbody tr th {\n",
              "        vertical-align: top;\n",
              "    }\n",
              "\n",
              "    .dataframe thead th {\n",
              "        text-align: right;\n",
              "    }\n",
              "</style>\n",
              "<table border=\"1\" class=\"dataframe\">\n",
              "  <thead>\n",
              "    <tr style=\"text-align: right;\">\n",
              "      <th></th>\n",
              "      <th>Accuracy</th>\n",
              "    </tr>\n",
              "  </thead>\n",
              "  <tbody>\n",
              "    <tr>\n",
              "      <th>Logistic Regression</th>\n",
              "      <td>0.586</td>\n",
              "    </tr>\n",
              "    <tr>\n",
              "      <th>SVMs</th>\n",
              "      <td>0.741</td>\n",
              "    </tr>\n",
              "    <tr>\n",
              "      <th>Random Forest</th>\n",
              "      <td>0.780</td>\n",
              "    </tr>\n",
              "  </tbody>\n",
              "</table>\n",
              "</div>\n",
              "      <button class=\"colab-df-convert\" onclick=\"convertToInteractive('df-6036dbef-770e-407a-a038-99e892063da8')\"\n",
              "              title=\"Convert this dataframe to an interactive table.\"\n",
              "              style=\"display:none;\">\n",
              "        \n",
              "  <svg xmlns=\"http://www.w3.org/2000/svg\" height=\"24px\"viewBox=\"0 0 24 24\"\n",
              "       width=\"24px\">\n",
              "    <path d=\"M0 0h24v24H0V0z\" fill=\"none\"/>\n",
              "    <path d=\"M18.56 5.44l.94 2.06.94-2.06 2.06-.94-2.06-.94-.94-2.06-.94 2.06-2.06.94zm-11 1L8.5 8.5l.94-2.06 2.06-.94-2.06-.94L8.5 2.5l-.94 2.06-2.06.94zm10 10l.94 2.06.94-2.06 2.06-.94-2.06-.94-.94-2.06-.94 2.06-2.06.94z\"/><path d=\"M17.41 7.96l-1.37-1.37c-.4-.4-.92-.59-1.43-.59-.52 0-1.04.2-1.43.59L10.3 9.45l-7.72 7.72c-.78.78-.78 2.05 0 2.83L4 21.41c.39.39.9.59 1.41.59.51 0 1.02-.2 1.41-.59l7.78-7.78 2.81-2.81c.8-.78.8-2.07 0-2.86zM5.41 20L4 18.59l7.72-7.72 1.47 1.35L5.41 20z\"/>\n",
              "  </svg>\n",
              "      </button>\n",
              "      \n",
              "  <style>\n",
              "    .colab-df-container {\n",
              "      display:flex;\n",
              "      flex-wrap:wrap;\n",
              "      gap: 12px;\n",
              "    }\n",
              "\n",
              "    .colab-df-convert {\n",
              "      background-color: #E8F0FE;\n",
              "      border: none;\n",
              "      border-radius: 50%;\n",
              "      cursor: pointer;\n",
              "      display: none;\n",
              "      fill: #1967D2;\n",
              "      height: 32px;\n",
              "      padding: 0 0 0 0;\n",
              "      width: 32px;\n",
              "    }\n",
              "\n",
              "    .colab-df-convert:hover {\n",
              "      background-color: #E2EBFA;\n",
              "      box-shadow: 0px 1px 2px rgba(60, 64, 67, 0.3), 0px 1px 3px 1px rgba(60, 64, 67, 0.15);\n",
              "      fill: #174EA6;\n",
              "    }\n",
              "\n",
              "    [theme=dark] .colab-df-convert {\n",
              "      background-color: #3B4455;\n",
              "      fill: #D2E3FC;\n",
              "    }\n",
              "\n",
              "    [theme=dark] .colab-df-convert:hover {\n",
              "      background-color: #434B5C;\n",
              "      box-shadow: 0px 1px 3px 1px rgba(0, 0, 0, 0.15);\n",
              "      filter: drop-shadow(0px 1px 2px rgba(0, 0, 0, 0.3));\n",
              "      fill: #FFFFFF;\n",
              "    }\n",
              "  </style>\n",
              "\n",
              "      <script>\n",
              "        const buttonEl =\n",
              "          document.querySelector('#df-6036dbef-770e-407a-a038-99e892063da8 button.colab-df-convert');\n",
              "        buttonEl.style.display =\n",
              "          google.colab.kernel.accessAllowed ? 'block' : 'none';\n",
              "\n",
              "        async function convertToInteractive(key) {\n",
              "          const element = document.querySelector('#df-6036dbef-770e-407a-a038-99e892063da8');\n",
              "          const dataTable =\n",
              "            await google.colab.kernel.invokeFunction('convertToInteractive',\n",
              "                                                     [key], {});\n",
              "          if (!dataTable) return;\n",
              "\n",
              "          const docLinkHtml = 'Like what you see? Visit the ' +\n",
              "            '<a target=\"_blank\" href=https://colab.research.google.com/notebooks/data_table.ipynb>data table notebook</a>'\n",
              "            + ' to learn more about interactive tables.';\n",
              "          element.innerHTML = '';\n",
              "          dataTable['output_type'] = 'display_data';\n",
              "          await google.colab.output.renderOutput(dataTable, element);\n",
              "          const docLink = document.createElement('div');\n",
              "          docLink.innerHTML = docLinkHtml;\n",
              "          element.appendChild(docLink);\n",
              "        }\n",
              "      </script>\n",
              "    </div>\n",
              "  </div>\n",
              "  "
            ],
            "text/plain": [
              "                     Accuracy\n",
              "Logistic Regression     0.586\n",
              "SVMs                    0.741\n",
              "Random Forest           0.780"
            ]
          },
          "execution_count": 32,
          "metadata": {},
          "output_type": "execute_result"
        }
      ],
      "source": [
        "table = pd.DataFrame({\"Accuracy\": [LogAccScore, SVMAccScore, RanForAccScore]}, index=['Logistic Regression', 'SVMs', 'Random Forest'])\n",
        "\n",
        "table"
      ]
    },
    {
      "cell_type": "code",
      "execution_count": null,
      "metadata": {
        "id": "NgLQRV_kqu8H"
      },
      "outputs": [],
      "source": [
        "# We know that the Random Forest algorithm uses decision trees as blackbox (stated in the PDF).\n",
        "# Each decision tree is trained on a random subset of the data, and the predictions of the individual trees\n",
        "# are then combined to make a final prediction (bagging). Increasing the number of estimators in a random forest reduces the variance of the model,\n",
        "# leading to better generalisation and lower over-fitting, increasing the accuracy.\n",
        "# Furthermore, as the number of decision trees in the Random Forest increases, the model's complexity also increases.\n",
        "# This increased complexity allows the model to capture more patterns and relationships in the data, i.e., better generalisation, which leads to improved accuracy,\n",
        "# To further enhance accuracy, one can also consider modifying the train-test splits. Instead of randomly splitting\n",
        "# the data into an 80-20 ratio, an alternative approach involves splitting the data in an 80-20 ratio on a character-wise basis.\n",
        "# In this scenario, approximately 80% of all instances of a specific character, such as 'a', would be included in the training set,\n",
        "# while the remaining instances would be assigned to the test set. This character-wise split ensures that the model receives sufficient\n",
        "# exposure to each character during training, potentially leading to improved accuracy during testing.\n",
        "# Random Forest algorithm that can be tuned to increase accuracy. Parameters such as max_depth, max_sample_split,\n",
        "# and criterion play a significant role in determining the performance of the model. However, it's important to note that the\n",
        "# optimal values for these parameters may vary depending on the dataset.\n",
        "# To find the best hyperparameters for maximizing accuracy, search methods like grid search can be implemented.\n",
        "\n",
        "# These are the values after changing the hyperparameters. (n_estimators=1000 and train-test split).\n",
        "# Please note the increase in values of Logistic Regression and SVMs due to the train-test split"
      ]
    },
    {
      "cell_type": "code",
      "execution_count": null,
      "metadata": {
        "id": "IlGXTSycwZI7"
      },
      "outputs": [],
      "source": [
        "# ---\n",
        "# -----------\n",
        "# ----------------- Q3\n",
        "# -----------\n",
        "# ---"
      ]
    },
    {
      "cell_type": "code",
      "execution_count": null,
      "metadata": {
        "id": "vi9fT6UJrJtZ"
      },
      "outputs": [],
      "source": [
        "LogPreScore = precision_score(Y_validation1, Log_prediction, average='weighted')\n",
        "LogRecScore = recall_score(Y_validation1, Log_prediction, average='weighted')\n",
        "LogF1Score = f1_score(Y_validation1, Log_prediction, average='weighted')\n",
        "\n",
        "SVMPreScore = precision_score(Y_validation1, SVM_prediction, average='weighted')\n",
        "SVMRecScore = recall_score(Y_validation1, SVM_prediction, average='weighted')\n",
        "SVMF1Score = f1_score(Y_validation1, SVM_prediction, average='weighted')\n",
        "\n",
        "RanForPreScore = precision_score(Y_validation1, RanFor_prediction, average='weighted')\n",
        "RanForRecScore = recall_score(Y_validation1, RanFor_prediction, average='weighted')\n",
        "RanForF1Score = f1_score(Y_validation1, RanFor_prediction, average='weighted')"
      ]
    },
    {
      "cell_type": "code",
      "execution_count": null,
      "metadata": {
        "colab": {
          "base_uri": "https://localhost:8080/",
          "height": 143
        },
        "id": "TMrkTwposgUN",
        "outputId": "46b0a270-7d7f-4c94-d51b-cb89800a4c2f"
      },
      "outputs": [
        {
          "data": {
            "text/html": [
              "\n",
              "  <div id=\"df-6abc844c-8110-49b0-8e71-c0686fc9b0e3\">\n",
              "    <div class=\"colab-df-container\">\n",
              "      <div>\n",
              "<style scoped>\n",
              "    .dataframe tbody tr th:only-of-type {\n",
              "        vertical-align: middle;\n",
              "    }\n",
              "\n",
              "    .dataframe tbody tr th {\n",
              "        vertical-align: top;\n",
              "    }\n",
              "\n",
              "    .dataframe thead th {\n",
              "        text-align: right;\n",
              "    }\n",
              "</style>\n",
              "<table border=\"1\" class=\"dataframe\">\n",
              "  <thead>\n",
              "    <tr style=\"text-align: right;\">\n",
              "      <th></th>\n",
              "      <th>Precision</th>\n",
              "      <th>Recall</th>\n",
              "      <th>F1 Score</th>\n",
              "    </tr>\n",
              "  </thead>\n",
              "  <tbody>\n",
              "    <tr>\n",
              "      <th>Logistic Regression</th>\n",
              "      <td>0.589437</td>\n",
              "      <td>0.586</td>\n",
              "      <td>0.583837</td>\n",
              "    </tr>\n",
              "    <tr>\n",
              "      <th>SVMs</th>\n",
              "      <td>0.776656</td>\n",
              "      <td>0.741</td>\n",
              "      <td>0.747932</td>\n",
              "    </tr>\n",
              "    <tr>\n",
              "      <th>Random Forest</th>\n",
              "      <td>0.802417</td>\n",
              "      <td>0.780</td>\n",
              "      <td>0.784797</td>\n",
              "    </tr>\n",
              "  </tbody>\n",
              "</table>\n",
              "</div>\n",
              "      <button class=\"colab-df-convert\" onclick=\"convertToInteractive('df-6abc844c-8110-49b0-8e71-c0686fc9b0e3')\"\n",
              "              title=\"Convert this dataframe to an interactive table.\"\n",
              "              style=\"display:none;\">\n",
              "        \n",
              "  <svg xmlns=\"http://www.w3.org/2000/svg\" height=\"24px\"viewBox=\"0 0 24 24\"\n",
              "       width=\"24px\">\n",
              "    <path d=\"M0 0h24v24H0V0z\" fill=\"none\"/>\n",
              "    <path d=\"M18.56 5.44l.94 2.06.94-2.06 2.06-.94-2.06-.94-.94-2.06-.94 2.06-2.06.94zm-11 1L8.5 8.5l.94-2.06 2.06-.94-2.06-.94L8.5 2.5l-.94 2.06-2.06.94zm10 10l.94 2.06.94-2.06 2.06-.94-2.06-.94-.94-2.06-.94 2.06-2.06.94z\"/><path d=\"M17.41 7.96l-1.37-1.37c-.4-.4-.92-.59-1.43-.59-.52 0-1.04.2-1.43.59L10.3 9.45l-7.72 7.72c-.78.78-.78 2.05 0 2.83L4 21.41c.39.39.9.59 1.41.59.51 0 1.02-.2 1.41-.59l7.78-7.78 2.81-2.81c.8-.78.8-2.07 0-2.86zM5.41 20L4 18.59l7.72-7.72 1.47 1.35L5.41 20z\"/>\n",
              "  </svg>\n",
              "      </button>\n",
              "      \n",
              "  <style>\n",
              "    .colab-df-container {\n",
              "      display:flex;\n",
              "      flex-wrap:wrap;\n",
              "      gap: 12px;\n",
              "    }\n",
              "\n",
              "    .colab-df-convert {\n",
              "      background-color: #E8F0FE;\n",
              "      border: none;\n",
              "      border-radius: 50%;\n",
              "      cursor: pointer;\n",
              "      display: none;\n",
              "      fill: #1967D2;\n",
              "      height: 32px;\n",
              "      padding: 0 0 0 0;\n",
              "      width: 32px;\n",
              "    }\n",
              "\n",
              "    .colab-df-convert:hover {\n",
              "      background-color: #E2EBFA;\n",
              "      box-shadow: 0px 1px 2px rgba(60, 64, 67, 0.3), 0px 1px 3px 1px rgba(60, 64, 67, 0.15);\n",
              "      fill: #174EA6;\n",
              "    }\n",
              "\n",
              "    [theme=dark] .colab-df-convert {\n",
              "      background-color: #3B4455;\n",
              "      fill: #D2E3FC;\n",
              "    }\n",
              "\n",
              "    [theme=dark] .colab-df-convert:hover {\n",
              "      background-color: #434B5C;\n",
              "      box-shadow: 0px 1px 3px 1px rgba(0, 0, 0, 0.15);\n",
              "      filter: drop-shadow(0px 1px 2px rgba(0, 0, 0, 0.3));\n",
              "      fill: #FFFFFF;\n",
              "    }\n",
              "  </style>\n",
              "\n",
              "      <script>\n",
              "        const buttonEl =\n",
              "          document.querySelector('#df-6abc844c-8110-49b0-8e71-c0686fc9b0e3 button.colab-df-convert');\n",
              "        buttonEl.style.display =\n",
              "          google.colab.kernel.accessAllowed ? 'block' : 'none';\n",
              "\n",
              "        async function convertToInteractive(key) {\n",
              "          const element = document.querySelector('#df-6abc844c-8110-49b0-8e71-c0686fc9b0e3');\n",
              "          const dataTable =\n",
              "            await google.colab.kernel.invokeFunction('convertToInteractive',\n",
              "                                                     [key], {});\n",
              "          if (!dataTable) return;\n",
              "\n",
              "          const docLinkHtml = 'Like what you see? Visit the ' +\n",
              "            '<a target=\"_blank\" href=https://colab.research.google.com/notebooks/data_table.ipynb>data table notebook</a>'\n",
              "            + ' to learn more about interactive tables.';\n",
              "          element.innerHTML = '';\n",
              "          dataTable['output_type'] = 'display_data';\n",
              "          await google.colab.output.renderOutput(dataTable, element);\n",
              "          const docLink = document.createElement('div');\n",
              "          docLink.innerHTML = docLinkHtml;\n",
              "          element.appendChild(docLink);\n",
              "        }\n",
              "      </script>\n",
              "    </div>\n",
              "  </div>\n",
              "  "
            ],
            "text/plain": [
              "                     Precision  Recall  F1 Score\n",
              "Logistic Regression   0.589437   0.586  0.583837\n",
              "SVMs                  0.776656   0.741  0.747932\n",
              "Random Forest         0.802417   0.780  0.784797"
            ]
          },
          "execution_count": 33,
          "metadata": {},
          "output_type": "execute_result"
        }
      ],
      "source": [
        "table = pd.DataFrame({\n",
        "    \"Precision\": [LogPreScore, SVMPreScore, RanForPreScore],\n",
        "    \"Recall\": [LogRecScore, SVMRecScore, RanForRecScore],\n",
        "    \"F1 Score\": [LogF1Score, SVMF1Score, RanForF1Score],\n",
        "}, index=['Logistic Regression', 'SVMs', 'Random Forest'])\n",
        "\n",
        "table"
      ]
    },
    {
      "cell_type": "code",
      "execution_count": null,
      "metadata": {
        "id": "zmY2sTlvvvqj"
      },
      "outputs": [],
      "source": [
        "# ---\n",
        "# -----------\n",
        "# ----------------- Q4\n",
        "# -----------\n",
        "# ---"
      ]
    },
    {
      "cell_type": "code",
      "execution_count": null,
      "metadata": {
        "id": "7o1782pN8ebb"
      },
      "outputs": [],
      "source": [
        "plt.figure(figsize=(7,7))\n",
        "graph = plt.bar(classes, each)\n",
        "plt.title(\"Class distribution\")\n",
        "\n",
        "i = 0\n",
        "for p in graph:\n",
        "    width = p.get_width()\n",
        "    height = p.get_height()\n",
        "    x, y = p.get_xy()\n",
        "    plt.text(x+width,\n",
        "             y + 100,\n",
        "             str(each[i] / 50)+'%',\n",
        "             rotation=90,\n",
        "             ha='center', rotation_mode='anchor')\n",
        "    i += 1\n",
        "\n",
        "plt.show()"
      ]
    },
    {
      "cell_type": "code",
      "execution_count": null,
      "metadata": {
        "colab": {
          "base_uri": "https://localhost:8080/",
          "height": 467
        },
        "id": "kviifqNU7PUI",
        "outputId": "9f7b8089-9cdf-4bc0-8d3c-0905b9001dab"
      },
      "outputs": [
        {
          "name": "stdout",
          "output_type": "stream",
          "text": [
            "Confusion Matrix using the Random Forest Classifier RanFor_model(n_estimators=1000)\n"
          ]
        },
        {
          "data": {
            "image/png": "[encoded data removed]",
            "text/plain": [
              "<Figure size 640x480 with 2 Axes>"
            ]
          },
          "metadata": {},
          "output_type": "display_data"
        }
      ],
      "source": [
        "from sklearn.metrics import confusion_matrix, ConfusionMatrixDisplay\n",
        "\n",
        "cm = confusion_matrix(Y_validation1, RanFor_prediction)\n",
        "display = ConfusionMatrixDisplay(confusion_matrix=cm, display_labels=RanFor_model.classes_)\n",
        "print(\"Confusion Matrix using the Random Forest Classifier RanFor_model(n_estimators=1000)\")\n",
        "display.plot()\n",
        "plt.show()"
      ]
    },
    {
      "cell_type": "code",
      "execution_count": null,
      "metadata": {
        "colab": {
          "base_uri": "https://localhost:8080/",
          "height": 545
        },
        "id": "sVaBtDGMDXMq",
        "outputId": "d2e955ea-6b23-4eae-bdfb-4d1646b9da0f"
      },
      "outputs": [
        {
          "data": {
            "image/png": "[encoded data removed]",
            "text/plain": [
              "<Figure size 600x600 with 1 Axes>"
            ]
          },
          "metadata": {},
          "output_type": "display_data"
        }
      ],
      "source": [
        "# Per-Class-Accuracy calculation and plotting\n",
        "\n",
        "accuracies = []\n",
        "for i in range(26):\n",
        "    true_negatives = np.sum(np.delete(np.delete(cm, i, axis=0), i, axis=1))\n",
        "    true_positives = cm[i, i]\n",
        "    accuracies.append({'value' : (true_positives + true_negatives) / np.sum(cm), 'char' : classes[i]})\n",
        "\n",
        "accuracies.sort(key=lambda x:x['value'])\n",
        "\n",
        "values, chars = [d['value'] for d in accuracies], [d['char'] for d in accuracies]\n",
        "\n",
        "plt.figure(figsize=(6,6))\n",
        "graph = plt.bar(chars, values)\n",
        "plt.title(\"Per-Class Accuracy\")\n",
        "\n",
        "i = 0\n",
        "for p in graph:\n",
        "    width = p.get_width()\n",
        "    height = p.get_height()\n",
        "    x, y = p.get_xy()\n",
        "    plt.text(x+width,\n",
        "             y + 0.5,\n",
        "             str(values[i] * 100)+'%',\n",
        "             rotation=90,\n",
        "             ha='center', rotation_mode='anchor')\n",
        "    i += 1\n",
        "\n",
        "plt.show()"
      ]
    },
    {
      "cell_type": "code",
      "execution_count": null,
      "metadata": {
        "id": "YuJPIpRWrg7D"
      },
      "outputs": [],
      "source": [
        "# The characters ‘b, f, h, i, j, l, o, t’ have low per-class-accuracies.\n",
        "# The low accuracies of these characters arise from a combination of preprocessing-induced modifications and visual similarities between the alphabets. The dilation and erosion operations, while intended to enhance the image quality, resulted in unintended modifications to the characters. Furthermore, the similarities between certain alphabets made the challenges worse, making it difficult for the classification model to differentiate them accurately.\n",
        "# For example, the missing or distorted dots in 'i' and 'j' resulted in misclassification as ‘l’, the\n",
        "# missing horizontal line in ‘f’ and ‘t’ resulted in misclassification as’l’,\n",
        "# the shortening of legs of ‘h’ resulted in misclassification as ‘n’, joining its legs resulted in misclassification as ‘b’, and both results in misclassification as ‘o’.\n",
        "# This misclassifications can be observed from the confusion matrix. For instance, a ‘f’ has been misclassified as a ‘l’ 9 times."
      ]
    },
    {
      "cell_type": "code",
      "execution_count": null,
      "metadata": {
        "id": "Kay62ZzivsD6"
      },
      "outputs": [],
      "source": [
        "# ---\n",
        "# -----------\n",
        "# ----------------- Q5\n",
        "# -----------\n",
        "# ---"
      ]
    },
    {
      "cell_type": "code",
      "execution_count": null,
      "metadata": {
        "id": "ywKQGAKTgXJd"
      },
      "outputs": [],
      "source": [
        "# CNNs (Convolutional Neural Networks) are often considered better than Random Forest classifiers for tasks\n",
        "# involving image classification because CNNs have a deeper understanding of the image features.\n",
        "# They are specifically designed for analyzing images. The advantage lies in their ability to automatically learn\n",
        "# and extract relevant features from images. They use a technique called convolution, which involves sliding a small\n",
        "# filter across the image and capturing local patterns. These learned features are then combined to make predictions about the image content."
      ]
    },
    {
      "cell_type": "code",
      "execution_count": null,
      "metadata": {
        "colab": {
          "base_uri": "https://localhost:8080/"
        },
        "id": "69BjWV0q3ogj",
        "outputId": "0cca733c-4ee9-4d54-bb4b-3bedf376d54e"
      },
      "outputs": [
        {
          "output_type": "stream",
          "name": "stdout",
          "text": [
            "Epoch 1/40\n",
            "125/125 [==============================] - 12s 71ms/step - loss: 2.7651 - accuracy: 0.2342 - val_loss: 2.0656 - val_accuracy: 0.4180\n",
            "Epoch 2/40\n",
            "125/125 [==============================] - 5s 41ms/step - loss: 1.6135 - accuracy: 0.5695 - val_loss: 1.4780 - val_accuracy: 0.5720\n",
            "Epoch 3/40\n",
            "125/125 [==============================] - 4s 30ms/step - loss: 1.1584 - accuracy: 0.6938 - val_loss: 1.2303 - val_accuracy: 0.6510\n",
            "Epoch 4/40\n",
            "125/125 [==============================] - 4s 29ms/step - loss: 0.8857 - accuracy: 0.7623 - val_loss: 1.1428 - val_accuracy: 0.6580\n",
            "Epoch 5/40\n",
            "125/125 [==============================] - 5s 40ms/step - loss: 0.6956 - accuracy: 0.8130 - val_loss: 1.1005 - val_accuracy: 0.6790\n",
            "Epoch 6/40\n",
            "125/125 [==============================] - 4s 31ms/step - loss: 0.5469 - accuracy: 0.8662 - val_loss: 1.1659 - val_accuracy: 0.6420\n",
            "Epoch 7/40\n",
            "125/125 [==============================] - 4s 30ms/step - loss: 0.4315 - accuracy: 0.8935 - val_loss: 1.0966 - val_accuracy: 0.6840\n",
            "Epoch 8/40\n",
            "125/125 [==============================] - 4s 36ms/step - loss: 0.3341 - accuracy: 0.9187 - val_loss: 1.1425 - val_accuracy: 0.6810\n",
            "Epoch 9/40\n",
            "125/125 [==============================] - 4s 36ms/step - loss: 0.2524 - accuracy: 0.9473 - val_loss: 1.1132 - val_accuracy: 0.6830\n",
            "Epoch 10/40\n",
            "125/125 [==============================] - 4s 30ms/step - loss: 0.1935 - accuracy: 0.9607 - val_loss: 1.1678 - val_accuracy: 0.6860\n",
            "Epoch 11/40\n",
            "125/125 [==============================] - 4s 30ms/step - loss: 0.1425 - accuracy: 0.9755 - val_loss: 1.1922 - val_accuracy: 0.6880\n",
            "Epoch 12/40\n",
            "125/125 [==============================] - 5s 42ms/step - loss: 0.1070 - accuracy: 0.9858 - val_loss: 1.2177 - val_accuracy: 0.6720\n",
            "Epoch 13/40\n",
            "125/125 [==============================] - 4s 30ms/step - loss: 0.0764 - accuracy: 0.9900 - val_loss: 1.2785 - val_accuracy: 0.6840\n",
            "Epoch 14/40\n",
            "125/125 [==============================] - 4s 32ms/step - loss: 0.0579 - accuracy: 0.9945 - val_loss: 1.3015 - val_accuracy: 0.6750\n",
            "Epoch 15/40\n",
            "125/125 [==============================] - 6s 47ms/step - loss: 0.0437 - accuracy: 0.9970 - val_loss: 1.3444 - val_accuracy: 0.6770\n",
            "Epoch 16/40\n",
            "125/125 [==============================] - 4s 30ms/step - loss: 0.0327 - accuracy: 0.9985 - val_loss: 1.3487 - val_accuracy: 0.6890\n",
            "Epoch 17/40\n",
            "125/125 [==============================] - 5s 40ms/step - loss: 0.0254 - accuracy: 0.9983 - val_loss: 1.3826 - val_accuracy: 0.6810\n",
            "Epoch 18/40\n",
            "125/125 [==============================] - 5s 41ms/step - loss: 0.0205 - accuracy: 0.9990 - val_loss: 1.4175 - val_accuracy: 0.6700\n",
            "Epoch 19/40\n",
            "125/125 [==============================] - 4s 29ms/step - loss: 0.0170 - accuracy: 0.9990 - val_loss: 1.4445 - val_accuracy: 0.6700\n",
            "Epoch 20/40\n",
            "125/125 [==============================] - 4s 29ms/step - loss: 0.0139 - accuracy: 0.9998 - val_loss: 1.4947 - val_accuracy: 0.6760\n",
            "Epoch 21/40\n",
            "125/125 [==============================] - 5s 40ms/step - loss: 0.0117 - accuracy: 0.9995 - val_loss: 1.4979 - val_accuracy: 0.6750\n",
            "Epoch 22/40\n",
            "125/125 [==============================] - 4s 31ms/step - loss: 0.0098 - accuracy: 0.9998 - val_loss: 1.5233 - val_accuracy: 0.6810\n",
            "Epoch 23/40\n",
            "125/125 [==============================] - 4s 29ms/step - loss: 0.0083 - accuracy: 0.9998 - val_loss: 1.5628 - val_accuracy: 0.6740\n",
            "Epoch 24/40\n",
            "125/125 [==============================] - 4s 34ms/step - loss: 0.0072 - accuracy: 0.9998 - val_loss: 1.5839 - val_accuracy: 0.6730\n",
            "Epoch 25/40\n",
            "125/125 [==============================] - 5s 37ms/step - loss: 0.0063 - accuracy: 0.9998 - val_loss: 1.6011 - val_accuracy: 0.6720\n",
            "Epoch 26/40\n",
            "125/125 [==============================] - 4s 30ms/step - loss: 0.0053 - accuracy: 1.0000 - val_loss: 1.6110 - val_accuracy: 0.6710\n",
            "Epoch 27/40\n",
            "125/125 [==============================] - 4s 29ms/step - loss: 0.0049 - accuracy: 1.0000 - val_loss: 1.6377 - val_accuracy: 0.6740\n",
            "Epoch 28/40\n",
            "125/125 [==============================] - 5s 41ms/step - loss: 0.0041 - accuracy: 1.0000 - val_loss: 1.6653 - val_accuracy: 0.6720\n",
            "Epoch 29/40\n",
            "125/125 [==============================] - 4s 30ms/step - loss: 0.0036 - accuracy: 1.0000 - val_loss: 1.6933 - val_accuracy: 0.6710\n",
            "Epoch 30/40\n",
            "125/125 [==============================] - 4s 30ms/step - loss: 0.0032 - accuracy: 1.0000 - val_loss: 1.7370 - val_accuracy: 0.6670\n",
            "Epoch 31/40\n",
            "125/125 [==============================] - 5s 39ms/step - loss: 0.0029 - accuracy: 1.0000 - val_loss: 1.7301 - val_accuracy: 0.6760\n",
            "Epoch 32/40\n",
            "125/125 [==============================] - 4s 31ms/step - loss: 0.0026 - accuracy: 1.0000 - val_loss: 1.7374 - val_accuracy: 0.6710\n",
            "Epoch 33/40\n",
            "125/125 [==============================] - 4s 29ms/step - loss: 0.0023 - accuracy: 1.0000 - val_loss: 1.7584 - val_accuracy: 0.6720\n",
            "Epoch 34/40\n",
            "125/125 [==============================] - 4s 33ms/step - loss: 0.0020 - accuracy: 1.0000 - val_loss: 1.7931 - val_accuracy: 0.6660\n",
            "Epoch 35/40\n",
            "125/125 [==============================] - 5s 38ms/step - loss: 0.0019 - accuracy: 1.0000 - val_loss: 1.7982 - val_accuracy: 0.6690\n",
            "Epoch 36/40\n",
            "125/125 [==============================] - 4s 30ms/step - loss: 0.0017 - accuracy: 1.0000 - val_loss: 1.8166 - val_accuracy: 0.6710\n",
            "Epoch 37/40\n",
            "125/125 [==============================] - 4s 29ms/step - loss: 0.0015 - accuracy: 1.0000 - val_loss: 1.8214 - val_accuracy: 0.6730\n",
            "Epoch 38/40\n",
            "125/125 [==============================] - 5s 41ms/step - loss: 0.0013 - accuracy: 1.0000 - val_loss: 1.8519 - val_accuracy: 0.6690\n",
            "Epoch 39/40\n",
            "125/125 [==============================] - 4s 30ms/step - loss: 0.0012 - accuracy: 1.0000 - val_loss: 1.8899 - val_accuracy: 0.6680\n",
            "Epoch 40/40\n",
            "125/125 [==============================] - 4s 29ms/step - loss: 0.0012 - accuracy: 1.0000 - val_loss: 1.8807 - val_accuracy: 0.6710\n",
            "32/32 [==============================] - 0s 9ms/step - loss: 1.8807 - accuracy: 0.6710\n",
            "32/32 [==============================] - 0s 8ms/step\n"
          ]
        }
      ],
      "source": [
        "import numpy as np\n",
        "from keras.models import Sequential\n",
        "from keras.layers import Conv2D, MaxPooling2D, Flatten, Dense\n",
        "from keras.optimizers import Adam\n",
        "from sklearn.model_selection import train_test_split\n",
        "\n",
        "# Assuming you have your dataset loaded as X (input images) and y (labels)\n",
        "# X shape: (5000, 100, 20)\n",
        "# y shape: (5000,)\n",
        "\n",
        "# Preprocess the input data if needed (e.g., normalize pixel values, convert labels to categorical)\n",
        "\n",
        "# Split the data into training and testing sets\n",
        "# X_train, X_test, y_train, y_test = train_test_split([d['img'] for d in data_set], targets, test_size=0.2, random_state=42)\n",
        "\n",
        "# Reshape the input data to match the expected input shape of the neural network\n",
        "input_shape = (100, 20, 1)\n",
        "X_train = np.array(X_train1)\n",
        "X_test = np.array(X_validation1)\n",
        "X_train = X_train.reshape(-1, *input_shape)\n",
        "X_test = X_test.reshape(-1, *input_shape)\n",
        "\n",
        "arr = [0 for i in range(26)]\n",
        "\n",
        "# Convert the labels to one-hot encoded vectors\n",
        "num_classes = 26  # Number of classes (a-z)\n",
        "y_train_vector = []\n",
        "y_test_vector = []\n",
        "for d in Y_train1:\n",
        "  k = arr.copy()\n",
        "  k[ord(d) - ord('a')] = 1\n",
        "  y_train_vector.append(k)\n",
        "for d in Y_validation1:\n",
        "  k = arr.copy()\n",
        "  k[ord(d) - ord('a')] = 1\n",
        "  y_test_vector.append(k)\n",
        "\n",
        "y_train = np.array(y_train_vector)\n",
        "y_test = np.array(y_test_vector)\n",
        "\n",
        "model = Sequential()\n",
        "model.add(Conv2D(32, kernel_size=(3, 3), activation='relu', input_shape=input_shape))\n",
        "model.add(MaxPooling2D(pool_size=(2, 2)))\n",
        "model.add(Flatten())\n",
        "model.add(Dense(128, activation='relu'))\n",
        "model.add(Dense(26, activation='softmax'))\n",
        "\n",
        "model.compile(loss='categorical_crossentropy', optimizer=Adam(), metrics=['accuracy'])\n",
        "\n",
        "# Train the model\n",
        "model.fit(X_train, y_train, batch_size=32, epochs=40, validation_data=(X_test, y_test))\n",
        "\n",
        "# Evaluate the model\n",
        "loss, accuracy = model.evaluate(X_test, y_test)\n",
        "\n",
        "# Make predictions\n",
        "predictions = model.predict(X_test)\n",
        "# You can use the trained model for further tasks (e.g., prediction on new, unseen data)"
      ]
    },
    {
      "cell_type": "code",
      "source": [
        "print(accuracy)"
      ],
      "metadata": {
        "id": "TMPjMCDySqzm",
        "colab": {
          "base_uri": "https://localhost:8080/"
        },
        "outputId": "eef3707e-5909-4dc5-c337-e13cbd77bc95"
      },
      "execution_count": null,
      "outputs": [
        {
          "output_type": "stream",
          "name": "stdout",
          "text": [
            "0.6710000038146973\n"
          ]
        }
      ]
    }
  ],
  "metadata": {
    "colab": {
      "provenance": []
    },
    "kernelspec": {
      "display_name": "Python 3",
      "name": "python3"
    },
    "language_info": {
      "name": "python"
    }
  },
  "nbformat": 4,
  "nbformat_minor": 0
}